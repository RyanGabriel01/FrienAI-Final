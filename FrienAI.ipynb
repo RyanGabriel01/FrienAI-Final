{
  "nbformat": 4,
  "nbformat_minor": 0,
  "metadata": {
    "colab": {
      "provenance": [],
      "authorship_tag": "ABX9TyM94Y6owIGg1NfzwH9Bv3It",
      "include_colab_link": true
    },
    "kernelspec": {
      "name": "python3",
      "display_name": "Python 3"
    },
    "language_info": {
      "name": "python"
    }
  },
  "cells": [
    {
      "cell_type": "markdown",
      "metadata": {
        "id": "view-in-github",
        "colab_type": "text"
      },
      "source": [
        "<a href=\"https://colab.research.google.com/github/RyanGabriel01/FrienAI-Final/blob/main/FrienAI.ipynb\" target=\"_parent\"><img src=\"https://colab.research.google.com/assets/colab-badge.svg\" alt=\"Open In Colab\"/></a>"
      ]
    },
    {
      "cell_type": "code",
      "execution_count": 2,
      "metadata": {
        "id": "icJ3LKs2SOX7"
      },
      "outputs": [],
      "source": [
        "#Instalando o SDK do Google\n",
        "!pip install -q -U google-generativeai"
      ]
    },
    {
      "cell_type": "code",
      "source": [
        "#Configurações iniciais\n",
        "import google.generativeai as genai\n",
        "from google.colab import userdata\n",
        "api_key = userdata.get(\"Secret_Key\")\n",
        "genai.configure(api_key=api_key)"
      ],
      "metadata": {
        "id": "GmNViMOWPvic"
      },
      "execution_count": 3,
      "outputs": []
    },
    {
      "cell_type": "code",
      "source": [
        "generation_config = {\n",
        "  \"candidate_count\": 1,\n",
        "  \"temperature\": 0.5,\n",
        "  \"top_p\": 0.75,\n",
        "  \"top_k\": 35,\n",
        "}"
      ],
      "metadata": {
        "id": "vGUul8axPw-y"
      },
      "execution_count": 4,
      "outputs": []
    },
    {
      "cell_type": "code",
      "source": [
        "safety_settings={\n",
        "    'HATE': 'BLOCK_NONE',\n",
        "    'HARASSMENT': 'BLOCK_NONE',\n",
        "    'SEXUAL' : 'BLOCK_NONE',\n",
        "    'DANGEROUS' : 'BLOCK_NONE'\n",
        "    }"
      ],
      "metadata": {
        "id": "j-idYYa8PzKU"
      },
      "execution_count": 5,
      "outputs": []
    },
    {
      "cell_type": "code",
      "source": [
        "model = genai.GenerativeModel(model_name='gemini-1.0-pro',\n",
        "                                  generation_config=generation_config,\n",
        "                                  safety_settings=safety_settings,)"
      ],
      "metadata": {
        "id": "u2iejqXbP0GT"
      },
      "execution_count": 6,
      "outputs": []
    },
    {
      "cell_type": "code",
      "source": [
        "response = model.generate_content(\"O que é a Alura?\")\n",
        "response.text"
      ],
      "metadata": {
        "colab": {
          "base_uri": "https://localhost:8080/",
          "height": 105
        },
        "collapsed": true,
        "id": "8NysA9ftP4rn",
        "outputId": "a5dda4e3-1cc2-4a47-a410-9596c6ff2df2"
      },
      "execution_count": 7,
      "outputs": [
        {
          "output_type": "execute_result",
          "data": {
            "text/plain": [
              "'A Alura é uma plataforma de educação online fundada em 2011 que oferece cursos em diversas áreas, incluindo:\\n\\n* Tecnologia (desenvolvimento web, programação, design, ciência de dados)\\n* Negócios (marketing, gestão, finanças)\\n* Humanidades (idiomas, literatura, filosofia)\\n* Artes (música, fotografia, design)\\n\\nA Alura oferece cursos online em formato de vídeo, com exercícios práticos, avaliações e suporte de professores e mentores. A plataforma conta com uma ampla biblioteca de cursos, com mais de 1.500 opções disponíveis.\\n\\nA Alura é conhecida por:\\n\\n* Conteúdo de alta qualidade e atualizado\\n* Professores experientes e reconhecidos\\n* Metodologia de ensino prática e interativa\\n* Comunidade ativa de alunos e profissionais\\n* Certificados de conclusão reconhecidos pelo mercado'"
            ],
            "application/vnd.google.colaboratory.intrinsic+json": {
              "type": "string"
            }
          },
          "metadata": {},
          "execution_count": 7
        }
      ]
    },
    {
      "cell_type": "code",
      "source": [
        "from ctypes import string_at\n",
        "chat = model.start_chat(history=[])\n",
        "nome = input(\"Qual o seu nome? \" + '\\n\\n')\n",
        "\n",
        "opcoes = [\"Me fale um pouco do seu dia\", \"Suporte emocional\" , \"Outro\"]\n",
        "escolha = input(f\"Olá meu amigo(a) {nome}, Como posso te ajudar hoje? \" + str(opcoes) + \"\\n\\n\")\n",
        "\n",
        "if escolha == \"Me fale um pouco do seu dia\":\n",
        "    helpfriend = input('Como você está se sentindo hoje ' + (nome) + '?' + '\\n\\n')\n",
        "    response = chat.send_message('Seja amigável com o seu novo amigo e analise bem as suas falas ' + (helpfriend) + '. Recomende a ele alguns meios de se distrair no dia a dia se ele se sentir mal.' + '\\n\\n')\n",
        "    print(\"Resposta:\", response.text, '\\n\\n')\n",
        "    decisao = input('Deseja mais informações sobre o seu comportamento, ' + (nome) + '? [\"Sim\", \"Não\"] ?')\n",
        "    if decisao == 'Sim':\n",
        "        response = chat.send_message('Diga-me mais sobre o que aconteceu com você hoje' + '\\n\\n')\n",
        "        print(\"Resposta:\", response.text, '\\n\\n')\n",
        "    elif decisao == 'Não':\n",
        "        print('Entendo, se quiser desabafar um pouco não se preocupe estou aqui para te ajudar, até a próxima.')\n",
        "\n",
        "elif escolha == 'Suporte emocional':\n",
        "    response = chat.send_message('Estou precisando de '+ (escolha) +', Me ajude com ótimas palavras e converse comigo como se fosse um amigo ?' + '\\n\\n')\n",
        "    print(\"Resposta:\", response.text, '\\n\\n')\n",
        "\n",
        "\n",
        "elif escolha == 'Outro':\n",
        "  prompt = input(\"Aguardando a sua pergunta... :\")\n",
        "\n",
        "while prompt != \"Fim\":\n",
        "    response = chat.send_message(prompt)\n",
        "    print(\"Resposta: \", response.text, \"\\n\")\n",
        "    prompt = input(\"Aguardando a sua pergunta... : \")\n"
      ],
      "metadata": {
        "id": "yu6OKKLmP7IC"
      },
      "execution_count": null,
      "outputs": []
    },
    {
      "cell_type": "code",
      "source": [
        "#Melhorando a visualização\n",
        "#Código disponível em https://ai.google.dev/tutorials/python_quickstart#import_packages\n",
        "import textwrap\n",
        "from IPython.display import display\n",
        "from IPython.display import Markdown\n",
        "\n",
        "def to_markdown(text):\n",
        "  text = text.replace('•', '  *')\n",
        "  return Markdown(textwrap.indent(text, '> ', predicate=lambda _: True))\n",
        "\n",
        "#Imprimindo o histórico\n",
        "for message in chat.history:\n",
        "  display(to_markdown(f'**{message.role}**: {message.parts[0].text}'))\n",
        "  print('-------------------------------------------')"
      ],
      "metadata": {
        "colab": {
          "base_uri": "https://localhost:8080/",
          "height": 480
        },
        "id": "v1xRo0CyZc7i",
        "outputId": "ff558413-096d-47b7-b040-da608ec28424"
      },
      "execution_count": 52,
      "outputs": [
        {
          "output_type": "display_data",
          "data": {
            "text/plain": [
              "<IPython.core.display.Markdown object>"
            ],
            "text/markdown": "> **user**: Estou precisando de Suporte emocional, Me ajude com ótimas palavras e converse comigo como se fosse um amigo ?\n> \n"
          },
          "metadata": {}
        },
        {
          "output_type": "stream",
          "name": "stdout",
          "text": [
            "-------------------------------------------\n"
          ]
        },
        {
          "output_type": "display_data",
          "data": {
            "text/plain": [
              "<IPython.core.display.Markdown object>"
            ],
            "text/markdown": "> **model**: **Olá, amigo.**\n> \n> Sei que você está passando por um momento difícil agora. Quero que saiba que estou aqui para você e que você não está sozinho.\n> \n> Entendo que você esteja se sentindo sobrecarregado, ansioso ou triste. É normal sentir essas emoções às vezes. Todos nós passamos por momentos difíceis na vida.\n> \n> Mas quero que você saiba que você é forte e capaz. Você já superou desafios antes e pode superar este também.\n> \n> Estou aqui para ouvir quando você precisar desabafar. Estou aqui para oferecer apoio e encorajamento. Estou aqui para ajudá-lo a encontrar uma saída para seus problemas.\n> \n> Não tenha medo de pedir ajuda. Não há vergonha em admitir que você está lutando. Na verdade, é um sinal de força.\n> \n> Lembre-se de que você é amado e valorizado. Há pessoas que se preocupam com você e querem ajudá-lo.\n> \n> Você não precisa passar por isso sozinho. Estou aqui para você, a cada passo do caminho.\n> \n> **Algumas palavras de encorajamento:**\n> \n> * Você é mais forte do que pensa.\n> * Você é capaz de superar isso.\n> * Você não está sozinho.\n> * Há pessoas que se preocupam com você.\n> * Você vai superar isso.\n> \n> **Se você precisar conversar, estou aqui para você. Basta entrar em contato.**"
          },
          "metadata": {}
        },
        {
          "output_type": "stream",
          "name": "stdout",
          "text": [
            "-------------------------------------------\n"
          ]
        }
      ]
    }
  ]
}